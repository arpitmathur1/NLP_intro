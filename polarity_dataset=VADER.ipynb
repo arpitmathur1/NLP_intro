{
  "nbformat": 4,
  "nbformat_minor": 0,
  "metadata": {
    "colab": {
      "name": "polarity_dataset=VADER.ipynb",
      "provenance": []
    },
    "kernelspec": {
      "display_name": "Python 3",
      "name": "python3"
    }
  },
  "cells": [
    {
      "cell_type": "code",
      "metadata": {
        "colab": {
          "base_uri": "https://localhost:8080/"
        },
        "id": "RVxjQ-7muMtP",
        "outputId": "bb775b46-7ace-4235-d342-f505133210de"
      },
      "source": [
        "import pandas as pd\n",
        "\n",
        "# install sentiment analyzer\n",
        "!pip install vaderSentiment\n",
        "from vaderSentiment.vaderSentiment import SentimentIntensityAnalyzer\n",
        "\n",
        "# set seed\n",
        "import random\n",
        "random.seed(0)\n",
        "\n",
        "# for metrics\n",
        "from sklearn.metrics import confusion_matrix\n",
        "from sklearn.metrics import accuracy_score\n",
        "from sklearn.metrics import precision_score\n",
        "from sklearn.metrics import recall_score\n",
        "\n",
        "## https://datasetsearch.research.google.com/search?query=amazon%20reviews%20dataset%20polarity&docid=p7MRKNwJKo4PvhOzAAAAAA%3D%3D"
      ],
      "execution_count": null,
      "outputs": [
        {
          "output_type": "stream",
          "text": [
            "Requirement already satisfied: vaderSentiment in /usr/local/lib/python3.6/dist-packages (3.3.2)\n",
            "Requirement already satisfied: requests in /usr/local/lib/python3.6/dist-packages (from vaderSentiment) (2.23.0)\n",
            "Requirement already satisfied: urllib3!=1.25.0,!=1.25.1,<1.26,>=1.21.1 in /usr/local/lib/python3.6/dist-packages (from requests->vaderSentiment) (1.24.3)\n",
            "Requirement already satisfied: certifi>=2017.4.17 in /usr/local/lib/python3.6/dist-packages (from requests->vaderSentiment) (2020.12.5)\n",
            "Requirement already satisfied: idna<3,>=2.5 in /usr/local/lib/python3.6/dist-packages (from requests->vaderSentiment) (2.10)\n",
            "Requirement already satisfied: chardet<4,>=3.0.2 in /usr/local/lib/python3.6/dist-packages (from requests->vaderSentiment) (3.0.4)\n"
          ],
          "name": "stdout"
        }
      ]
    },
    {
      "cell_type": "code",
      "metadata": {
        "colab": {
          "base_uri": "https://localhost:8080/"
        },
        "id": "9igWGLXmuPtf",
        "outputId": "fd8f1cad-8e15-4b3d-ba2b-1ed9c0cc3897"
      },
      "source": [
        "## download the dataset for analysis\n",
        "!wget --no-check-certificate \\\n",
        "    'https://s3.amazonaws.com/fast-ai-nlp/amazon_review_polarity_csv.tgz' \\\n",
        "    -O './amazon_review_polarity_csv.tgz'\n",
        "\n",
        "!tar -xzvf './amazon_review_polarity_csv.tgz'"
      ],
      "execution_count": null,
      "outputs": [
        {
          "output_type": "stream",
          "text": [
            "--2020-12-13 03:22:03--  https://s3.amazonaws.com/fast-ai-nlp/amazon_review_polarity_csv.tgz\n",
            "Resolving s3.amazonaws.com (s3.amazonaws.com)... 52.217.105.62\n",
            "Connecting to s3.amazonaws.com (s3.amazonaws.com)|52.217.105.62|:443... connected.\n",
            "HTTP request sent, awaiting response... 200 OK\n",
            "Length: 688339454 (656M) [application/x-tar]\n",
            "Saving to: ‘./amazon_review_polarity_csv.tgz’\n",
            "\n",
            "./amazon_review_pol 100%[===================>] 656.45M  16.4MB/s    in 42s     \n",
            "\n",
            "2020-12-13 03:22:46 (15.6 MB/s) - ‘./amazon_review_polarity_csv.tgz’ saved [688339454/688339454]\n",
            "\n",
            "amazon_review_polarity_csv/\n",
            "amazon_review_polarity_csv/train.csv\n",
            "amazon_review_polarity_csv/readme.txt\n",
            "amazon_review_polarity_csv/test.csv\n"
          ],
          "name": "stdout"
        }
      ]
    },
    {
      "cell_type": "code",
      "metadata": {
        "colab": {
          "base_uri": "https://localhost:8080/"
        },
        "id": "gl5RgXbiuSSg",
        "outputId": "79f9f95a-9de1-498b-cd8f-96f44fc250dd"
      },
      "source": [
        "# read the dataset, name the columns and add one column for predicted sentiment\n",
        "%%time\n",
        "train = pd.read_csv('amazon_review_polarity_csv/train.csv', header=None)\n",
        "test = pd.read_csv('amazon_review_polarity_csv/test.csv', header=None)\n",
        "\n",
        "train.columns = ['label', 'review_title', 'review_text']\n",
        "test.columns = ['label', 'review_title', 'review_text']\n",
        "\n",
        "train.loc[:, 'sentiment_predicted'] = None\n",
        "test.loc[:, 'sentiment_predicted'] = None\n",
        "\n",
        "print(f'Train shape: {train.shape} - Test shape: {test.shape}')\n",
        "\n",
        "train.drop(['review_title'], axis=1, inplace=True)\n",
        "test.drop(['review_title'], axis=1, inplace=True)"
      ],
      "execution_count": null,
      "outputs": [
        {
          "output_type": "stream",
          "text": [
            "Train shape: (3600000, 4) - Test shape: (400000, 4)\n",
            "CPU times: user 20.6 s, sys: 1.91 s, total: 22.5 s\n",
            "Wall time: 22.6 s\n"
          ],
          "name": "stdout"
        }
      ]
    },
    {
      "cell_type": "code",
      "metadata": {
        "colab": {
          "base_uri": "https://localhost:8080/",
          "height": 343
        },
        "id": "o-dHvy_outlw",
        "outputId": "d7d729e2-8c49-4145-f00b-771a6d38d172"
      },
      "source": [
        "train.head(10)"
      ],
      "execution_count": null,
      "outputs": [
        {
          "output_type": "execute_result",
          "data": {
            "text/html": [
              "<div>\n",
              "<style scoped>\n",
              "    .dataframe tbody tr th:only-of-type {\n",
              "        vertical-align: middle;\n",
              "    }\n",
              "\n",
              "    .dataframe tbody tr th {\n",
              "        vertical-align: top;\n",
              "    }\n",
              "\n",
              "    .dataframe thead th {\n",
              "        text-align: right;\n",
              "    }\n",
              "</style>\n",
              "<table border=\"1\" class=\"dataframe\">\n",
              "  <thead>\n",
              "    <tr style=\"text-align: right;\">\n",
              "      <th></th>\n",
              "      <th>label</th>\n",
              "      <th>review_text</th>\n",
              "      <th>sentiment_predicted</th>\n",
              "    </tr>\n",
              "  </thead>\n",
              "  <tbody>\n",
              "    <tr>\n",
              "      <th>0</th>\n",
              "      <td>2</td>\n",
              "      <td>This sound track was beautiful! It paints the ...</td>\n",
              "      <td>None</td>\n",
              "    </tr>\n",
              "    <tr>\n",
              "      <th>1</th>\n",
              "      <td>2</td>\n",
              "      <td>I'm reading a lot of reviews saying that this ...</td>\n",
              "      <td>None</td>\n",
              "    </tr>\n",
              "    <tr>\n",
              "      <th>2</th>\n",
              "      <td>2</td>\n",
              "      <td>This soundtrack is my favorite music of all ti...</td>\n",
              "      <td>None</td>\n",
              "    </tr>\n",
              "    <tr>\n",
              "      <th>3</th>\n",
              "      <td>2</td>\n",
              "      <td>I truly like this soundtrack and I enjoy video...</td>\n",
              "      <td>None</td>\n",
              "    </tr>\n",
              "    <tr>\n",
              "      <th>4</th>\n",
              "      <td>2</td>\n",
              "      <td>If you've played the game, you know how divine...</td>\n",
              "      <td>None</td>\n",
              "    </tr>\n",
              "    <tr>\n",
              "      <th>5</th>\n",
              "      <td>2</td>\n",
              "      <td>I am quite sure any of you actually taking the...</td>\n",
              "      <td>None</td>\n",
              "    </tr>\n",
              "    <tr>\n",
              "      <th>6</th>\n",
              "      <td>1</td>\n",
              "      <td>This is a self-published book, and if you want...</td>\n",
              "      <td>None</td>\n",
              "    </tr>\n",
              "    <tr>\n",
              "      <th>7</th>\n",
              "      <td>2</td>\n",
              "      <td>I loved Whisper of the wicked saints. The stor...</td>\n",
              "      <td>None</td>\n",
              "    </tr>\n",
              "    <tr>\n",
              "      <th>8</th>\n",
              "      <td>2</td>\n",
              "      <td>I just finished reading Whisper of the Wicked ...</td>\n",
              "      <td>None</td>\n",
              "    </tr>\n",
              "    <tr>\n",
              "      <th>9</th>\n",
              "      <td>2</td>\n",
              "      <td>This was a easy to read book that made me want...</td>\n",
              "      <td>None</td>\n",
              "    </tr>\n",
              "  </tbody>\n",
              "</table>\n",
              "</div>"
            ],
            "text/plain": [
              "   label                                        review_text sentiment_predicted\n",
              "0      2  This sound track was beautiful! It paints the ...                None\n",
              "1      2  I'm reading a lot of reviews saying that this ...                None\n",
              "2      2  This soundtrack is my favorite music of all ti...                None\n",
              "3      2  I truly like this soundtrack and I enjoy video...                None\n",
              "4      2  If you've played the game, you know how divine...                None\n",
              "5      2  I am quite sure any of you actually taking the...                None\n",
              "6      1  This is a self-published book, and if you want...                None\n",
              "7      2  I loved Whisper of the wicked saints. The stor...                None\n",
              "8      2  I just finished reading Whisper of the Wicked ...                None\n",
              "9      2  This was a easy to read book that made me want...                None"
            ]
          },
          "metadata": {
            "tags": []
          },
          "execution_count": 41
        }
      ]
    },
    {
      "cell_type": "code",
      "metadata": {
        "colab": {
          "base_uri": "https://localhost:8080/",
          "height": 106
        },
        "id": "BvwnWhIGwzN3",
        "outputId": "0e8967e3-390a-46ec-88c9-0661d3ba08c5"
      },
      "source": [
        "## showcase a negative text (the seventh row)\n",
        "train.iloc[6][\"review_text\"]"
      ],
      "execution_count": null,
      "outputs": [
        {
          "output_type": "execute_result",
          "data": {
            "application/vnd.google.colaboratory.intrinsic+json": {
              "type": "string"
            },
            "text/plain": [
              "'This is a self-published book, and if you want to know why--read a few paragraphs! Those 5 star reviews must have been written by Ms. Haddon\\'s family and friends--or perhaps, by herself! I can\\'t imagine anyone reading the whole thing--I spent an evening with the book and a friend and we were in hysterics reading bits and pieces of it to one another. It is most definitely bad enough to be entered into some kind of a \"worst book\" contest. I can\\'t believe Amazon even sells this kind of thing. Maybe I can offer them my 8th grade term paper on \"To Kill a Mockingbird\"--a book I am quite sure Ms. Haddon never heard of. Anyway, unless you are in a mood to send a book to someone as a joke---stay far, far away from this one!'"
            ]
          },
          "metadata": {
            "tags": []
          },
          "execution_count": 42
        }
      ]
    },
    {
      "cell_type": "code",
      "metadata": {
        "id": "dMlqpl5i1ZDM"
      },
      "source": [
        "# generate the sentiment analyzer method\n",
        "analyser = SentimentIntensityAnalyzer()\n",
        "def sentiment_analyzer_scores(sentence):\n",
        "    score = analyser.polarity_scores(sentence)\n",
        "    #print(\"{:-<40} {}\".format(sentence, str(score)))\n",
        "    return score"
      ],
      "execution_count": null,
      "outputs": []
    },
    {
      "cell_type": "code",
      "metadata": {
        "colab": {
          "base_uri": "https://localhost:8080/"
        },
        "id": "sPeyLSYY1j35",
        "outputId": "a9f0a53d-5af4-4116-e094-0a53a2c2d681"
      },
      "source": [
        "%%time\r\n",
        "sentiment_analyzer_scores(train.iloc[6][\"review_text\"])"
      ],
      "execution_count": null,
      "outputs": [
        {
          "output_type": "stream",
          "text": [
            "CPU times: user 2.34 ms, sys: 990 µs, total: 3.33 ms\n",
            "Wall time: 3.66 ms\n"
          ],
          "name": "stdout"
        },
        {
          "output_type": "execute_result",
          "data": {
            "text/plain": [
              "{'compound': -0.8653, 'neg': 0.114, 'neu': 0.821, 'pos': 0.065}"
            ]
          },
          "metadata": {
            "tags": []
          },
          "execution_count": 44
        }
      ]
    },
    {
      "cell_type": "code",
      "metadata": {
        "colab": {
          "base_uri": "https://localhost:8080/"
        },
        "id": "ubR_BcwL1nBZ",
        "outputId": "2e12d700-cb7d-41b9-c94a-6b27ceb18539"
      },
      "source": [
        "%%time\r\n",
        "sentiment_analyzer_scores(train.iloc[5][\"review_text\"])"
      ],
      "execution_count": null,
      "outputs": [
        {
          "output_type": "stream",
          "text": [
            "CPU times: user 4.42 ms, sys: 0 ns, total: 4.42 ms\n",
            "Wall time: 5.47 ms\n"
          ],
          "name": "stdout"
        },
        {
          "output_type": "execute_result",
          "data": {
            "text/plain": [
              "{'compound': 0.9886, 'neg': 0.014, 'neu': 0.748, 'pos': 0.238}"
            ]
          },
          "metadata": {
            "tags": []
          },
          "execution_count": 45
        }
      ]
    },
    {
      "cell_type": "code",
      "metadata": {
        "colab": {
          "base_uri": "https://localhost:8080/"
        },
        "id": "KY57lmvOF0Ob",
        "outputId": "3d1e6d4b-e86e-4279-9a9e-d6a064134a12"
      },
      "source": [
        "%%time\n",
        "\n",
        "test = test.drop(list(range(50000, len(test))))\n",
        "print(len(test))\n",
        "for i in range(len(test)):\n",
        "    test.loc[i, 'sentiment_predicted'] = sentiment_analyzer_scores(test.iloc[i][\"review_text\"])['compound']\n",
        "    #for i in range(50):\n",
        "    test.loc[i, \"sentiment_predicted\"] = 1 if test.iloc[i][\"sentiment_predicted\"] < 0 else 2\n"
      ],
      "execution_count": null,
      "outputs": [
        {
          "output_type": "stream",
          "text": [
            "50000\n",
            "CPU times: user 2min 42s, sys: 1.18 s, total: 2min 43s\n",
            "Wall time: 2min 44s\n"
          ],
          "name": "stdout"
        }
      ]
    },
    {
      "cell_type": "code",
      "metadata": {
        "colab": {
          "base_uri": "https://localhost:8080/",
          "height": 195
        },
        "id": "OPsuZiqIFnE6",
        "outputId": "133f4e0a-e1c3-4b4b-952a-bf4c1114e7ff"
      },
      "source": [
        "test.head()"
      ],
      "execution_count": null,
      "outputs": [
        {
          "output_type": "execute_result",
          "data": {
            "text/html": [
              "<div>\n",
              "<style scoped>\n",
              "    .dataframe tbody tr th:only-of-type {\n",
              "        vertical-align: middle;\n",
              "    }\n",
              "\n",
              "    .dataframe tbody tr th {\n",
              "        vertical-align: top;\n",
              "    }\n",
              "\n",
              "    .dataframe thead th {\n",
              "        text-align: right;\n",
              "    }\n",
              "</style>\n",
              "<table border=\"1\" class=\"dataframe\">\n",
              "  <thead>\n",
              "    <tr style=\"text-align: right;\">\n",
              "      <th></th>\n",
              "      <th>label</th>\n",
              "      <th>review_text</th>\n",
              "      <th>sentiment_predicted</th>\n",
              "    </tr>\n",
              "  </thead>\n",
              "  <tbody>\n",
              "    <tr>\n",
              "      <th>0</th>\n",
              "      <td>2</td>\n",
              "      <td>My lovely Pat has one of the GREAT voices of h...</td>\n",
              "      <td>2</td>\n",
              "    </tr>\n",
              "    <tr>\n",
              "      <th>1</th>\n",
              "      <td>2</td>\n",
              "      <td>Despite the fact that I have only played a sma...</td>\n",
              "      <td>2</td>\n",
              "    </tr>\n",
              "    <tr>\n",
              "      <th>2</th>\n",
              "      <td>1</td>\n",
              "      <td>I bought this charger in Jul 2003 and it worke...</td>\n",
              "      <td>2</td>\n",
              "    </tr>\n",
              "    <tr>\n",
              "      <th>3</th>\n",
              "      <td>2</td>\n",
              "      <td>Check out Maha Energy's website. Their Powerex...</td>\n",
              "      <td>2</td>\n",
              "    </tr>\n",
              "    <tr>\n",
              "      <th>4</th>\n",
              "      <td>2</td>\n",
              "      <td>Reviewed quite a bit of the combo players and ...</td>\n",
              "      <td>2</td>\n",
              "    </tr>\n",
              "  </tbody>\n",
              "</table>\n",
              "</div>"
            ],
            "text/plain": [
              "   label                                        review_text sentiment_predicted\n",
              "0      2  My lovely Pat has one of the GREAT voices of h...                   2\n",
              "1      2  Despite the fact that I have only played a sma...                   2\n",
              "2      1  I bought this charger in Jul 2003 and it worke...                   2\n",
              "3      2  Check out Maha Energy's website. Their Powerex...                   2\n",
              "4      2  Reviewed quite a bit of the combo players and ...                   2"
            ]
          },
          "metadata": {
            "tags": []
          },
          "execution_count": 47
        }
      ]
    },
    {
      "cell_type": "code",
      "metadata": {
        "colab": {
          "base_uri": "https://localhost:8080/"
        },
        "id": "vx-1zbhcGcUY",
        "outputId": "b51dd8dc-9a70-43a8-f6b5-8227a8224950"
      },
      "source": [
        "print(precision_score(test[\"label\"].tolist(),test[\"sentiment_predicted\"].tolist()))"
      ],
      "execution_count": null,
      "outputs": [
        {
          "output_type": "stream",
          "text": [
            "0.8458743376230129\n"
          ],
          "name": "stdout"
        }
      ]
    },
    {
      "cell_type": "code",
      "metadata": {
        "colab": {
          "base_uri": "https://localhost:8080/"
        },
        "id": "j6b6CtsPG6h_",
        "outputId": "eb007df1-f2f7-45d3-de7d-702c3b34c06c"
      },
      "source": [
        "print(recall_score(test[\"label\"].tolist(),test[\"sentiment_predicted\"].tolist()))"
      ],
      "execution_count": null,
      "outputs": [
        {
          "output_type": "stream",
          "text": [
            "0.45374807114431903\n"
          ],
          "name": "stdout"
        }
      ]
    },
    {
      "cell_type": "code",
      "metadata": {
        "colab": {
          "base_uri": "https://localhost:8080/"
        },
        "id": "_KBb2c5ZHXKv",
        "outputId": "384f95dc-53ae-439e-88a0-3f38a4d76ab6"
      },
      "source": [
        "print(accuracy_score(test[\"label\"].tolist(),test[\"sentiment_predicted\"].tolist()))"
      ],
      "execution_count": null,
      "outputs": [
        {
          "output_type": "stream",
          "text": [
            "0.69024\n"
          ],
          "name": "stdout"
        }
      ]
    },
    {
      "cell_type": "code",
      "metadata": {
        "colab": {
          "base_uri": "https://localhost:8080/"
        },
        "id": "Xeoz1tA1HaF_",
        "outputId": "7f73dce9-637b-4b90-97c6-2c5a76a42333"
      },
      "source": [
        "print(confusion_matrix(test[\"label\"].tolist(),test[\"sentiment_predicted\"].tolist()))"
      ],
      "execution_count": null,
      "outputs": [
        {
          "output_type": "stream",
          "text": [
            "[[11174 13452]\n",
            " [ 2036 23338]]\n"
          ],
          "name": "stdout"
        }
      ]
    },
    {
      "cell_type": "markdown",
      "metadata": {
        "id": "4pzPYKnGVZqO"
      },
      "source": [
        "MNB Model:\r\n",
        "\r\n",
        "[\r\n",
        "\r\n",
        "  [11174 13452]\r\n",
        " \r\n",
        " [ 2036 23338]\r\n",
        "\r\n",
        " ]\r\n",
        "\r\n",
        "Precision:  0.84587\r\n",
        "\r\n",
        "Recall:     0.45378\r\n",
        "\r\n",
        "Accuracy:   0.69024"
      ]
    }
  ]
}